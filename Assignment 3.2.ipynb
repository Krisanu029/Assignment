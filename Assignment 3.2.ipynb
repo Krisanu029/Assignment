{
 "cells": [
  {
   "cell_type": "markdown",
   "id": "3a2b0205",
   "metadata": {},
   "source": [
    "#### Q1. Create a python program to sort the given list of tuples based on integer value using a lambda function"
   ]
  },
  {
   "cell_type": "code",
   "execution_count": 4,
   "id": "704d7493",
   "metadata": {},
   "outputs": [
    {
     "name": "stdout",
     "output_type": "stream",
     "text": [
      "Original list of tuples: \n",
      "[('sachin Tendulkar', 34357), ('Ricky Ponting', 27483), ('Jack Kallis', 25534), ('Virat Kohli', 24939)]\n",
      "\n",
      "Sorting the list of tuples: \n",
      "[('Virat Kohli', 24939), ('Jack Kallis', 25534), ('Ricky Ponting', 27483), ('sachin Tendulkar', 34357)]\n"
     ]
    }
   ],
   "source": [
    "l= [('sachin Tendulkar', 34357), ('Ricky Ponting', 27483), ('Jack Kallis', 25534), ('Virat Kohli', 24939)]\n",
    "print('Original list of tuples: ')\n",
    "print(l)\n",
    "l.sort(key = lambda x : x[1])\n",
    "print(\"\\nSorting the list of tuples: \")\n",
    "print(l)"
   ]
  },
  {
   "cell_type": "markdown",
   "id": "87df9e38",
   "metadata": {},
   "source": [
    "#### Q2. Write a python program to find the squares of all the numbers in the given list of integers using lambda and map function"
   ]
  },
  {
   "cell_type": "code",
   "execution_count": 6,
   "id": "1c6ea35e",
   "metadata": {},
   "outputs": [
    {
     "data": {
      "text/plain": [
       "[1, 4, 9, 16, 25, 36, 49, 64, 81, 100]"
      ]
     },
     "execution_count": 6,
     "metadata": {},
     "output_type": "execute_result"
    }
   ],
   "source": [
    "l = [1,2,3,4,5,6,7,8,9,10]\n",
    "list(map(lambda i : i**2, l))"
   ]
  },
  {
   "cell_type": "markdown",
   "id": "dfcb2bb8",
   "metadata": {},
   "source": [
    "#### Q3. Write a python program to convert the given list of integers into a tuple of strings using Map and lambda function"
   ]
  },
  {
   "cell_type": "code",
   "execution_count": 8,
   "id": "4b463926",
   "metadata": {},
   "outputs": [
    {
     "data": {
      "text/plain": [
       "('1', '2', '3', '4', '5', '6', '7', '8', '9', '10')"
      ]
     },
     "execution_count": 8,
     "metadata": {},
     "output_type": "execute_result"
    }
   ],
   "source": [
    "l = [1,2,3,4,5,6,7,8,9,10]\n",
    "tuple(map(lambda i : str(i),l))"
   ]
  },
  {
   "cell_type": "markdown",
   "id": "687697ba",
   "metadata": {},
   "source": [
    "#### Q4. Write a python program using reduce function to compute the product of a list containg numbers from 1 to 25"
   ]
  },
  {
   "cell_type": "code",
   "execution_count": 9,
   "id": "c458f1ed",
   "metadata": {},
   "outputs": [
    {
     "data": {
      "text/plain": [
       "15511210043330985984000000"
      ]
     },
     "execution_count": 9,
     "metadata": {},
     "output_type": "execute_result"
    }
   ],
   "source": [
    "from functools import reduce\n",
    "l = list(range(1,26))\n",
    "reduce(lambda x, y: x*y,l)"
   ]
  },
  {
   "cell_type": "markdown",
   "id": "66e36351",
   "metadata": {},
   "source": [
    "#### Q5. Write a python program to filter the numbers in a given list that are divisible by 2 and 3 using the filter function"
   ]
  },
  {
   "cell_type": "code",
   "execution_count": 14,
   "id": "e1522910",
   "metadata": {},
   "outputs": [
    {
     "data": {
      "text/plain": [
       "[6, 60, 90, 120]"
      ]
     },
     "execution_count": 14,
     "metadata": {},
     "output_type": "execute_result"
    }
   ],
   "source": [
    "l = [2,3,6,9,27,60,90,120,55,46]\n",
    "\n",
    "list(filter(lambda i :  i % 2== 0 and i % 3 == 0, l))"
   ]
  },
  {
   "cell_type": "markdown",
   "id": "d9b5bb4a",
   "metadata": {},
   "source": [
    "#### Q6. Write a python program to find the palindromes in the given list of strings using lambda and filter function"
   ]
  },
  {
   "cell_type": "code",
   "execution_count": 15,
   "id": "45f5dffc",
   "metadata": {},
   "outputs": [
    {
     "data": {
      "text/plain": [
       "['php', 'aba', 'radar', 'level']"
      ]
     },
     "execution_count": 15,
     "metadata": {},
     "output_type": "execute_result"
    }
   ],
   "source": [
    "l = ['python', 'php','aba','radar','level']\n",
    "\n",
    "list(filter(lambda i : i[::] == i[::-1], l))"
   ]
  },
  {
   "cell_type": "code",
   "execution_count": null,
   "id": "c28a0caa",
   "metadata": {},
   "outputs": [],
   "source": []
  }
 ],
 "metadata": {
  "kernelspec": {
   "display_name": "Python 3 (ipykernel)",
   "language": "python",
   "name": "python3"
  },
  "language_info": {
   "codemirror_mode": {
    "name": "ipython",
    "version": 3
   },
   "file_extension": ".py",
   "mimetype": "text/x-python",
   "name": "python",
   "nbconvert_exporter": "python",
   "pygments_lexer": "ipython3",
   "version": "3.9.13"
  }
 },
 "nbformat": 4,
 "nbformat_minor": 5
}
