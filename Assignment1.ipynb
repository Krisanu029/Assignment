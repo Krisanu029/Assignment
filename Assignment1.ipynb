{
 "cells": [
  {
   "cell_type": "markdown",
   "id": "a885de1e-b220-4ac8-b94a-c86744bcbe5e",
   "metadata": {},
   "source": [
    "### Q1. Create one variable containing following type of data:\n"
   ]
  },
  {
   "cell_type": "code",
   "execution_count": 1,
   "id": "bf5b8dfa-1d42-4d3c-8055-86d59eebcace",
   "metadata": {},
   "outputs": [
    {
     "data": {
      "text/plain": [
       "str"
      ]
     },
     "execution_count": 1,
     "metadata": {},
     "output_type": "execute_result"
    }
   ],
   "source": [
    "#1) string\n",
    "\n",
    "a = 'Krisanu'\n",
    "type(a)"
   ]
  },
  {
   "cell_type": "code",
   "execution_count": 2,
   "id": "aaeda593-f322-4f1b-9c35-46db1f5dfe9a",
   "metadata": {},
   "outputs": [
    {
     "data": {
      "text/plain": [
       "list"
      ]
     },
     "execution_count": 2,
     "metadata": {},
     "output_type": "execute_result"
    }
   ],
   "source": [
    "#2) list\n",
    "\n",
    "b = [1,2,3,4,'anupan', 35.26,True]\n",
    "\n",
    "type(b)"
   ]
  },
  {
   "cell_type": "code",
   "execution_count": 3,
   "id": "867343be-e178-4560-972d-25d350da8d80",
   "metadata": {},
   "outputs": [
    {
     "data": {
      "text/plain": [
       "float"
      ]
     },
     "execution_count": 3,
     "metadata": {},
     "output_type": "execute_result"
    }
   ],
   "source": [
    "#3)float\n",
    "\n",
    "c = 35.79\n",
    "\n",
    "type(c)"
   ]
  },
  {
   "cell_type": "code",
   "execution_count": 5,
   "id": "bc1c5005-4359-444c-b9e9-41a561879d82",
   "metadata": {},
   "outputs": [
    {
     "data": {
      "text/plain": [
       "tuple"
      ]
     },
     "execution_count": 5,
     "metadata": {},
     "output_type": "execute_result"
    }
   ],
   "source": [
    "#iv)tuple\n",
    "\n",
    "d = (1,2,3,4,'krisanu',True)\n",
    "type(d)"
   ]
  },
  {
   "cell_type": "markdown",
   "id": "ae2e79d4-ac66-4225-a518-336d48ac5f17",
   "metadata": {},
   "source": [
    "### Q2. Given are some following variables containing data. What will be the data type of the above given variable\n"
   ]
  },
  {
   "cell_type": "code",
   "execution_count": 6,
   "id": "7cf686bf-24ab-460b-93e8-1291b304a70e",
   "metadata": {},
   "outputs": [
    {
     "data": {
      "text/plain": [
       "str"
      ]
     },
     "execution_count": 6,
     "metadata": {},
     "output_type": "execute_result"
    }
   ],
   "source": [
    "var1=''\n",
    "type(var1)"
   ]
  },
  {
   "cell_type": "code",
   "execution_count": 7,
   "id": "f2387a6f-d897-4b4a-a065-758808467914",
   "metadata": {},
   "outputs": [
    {
     "data": {
      "text/plain": [
       "str"
      ]
     },
     "execution_count": 7,
     "metadata": {},
     "output_type": "execute_result"
    }
   ],
   "source": [
    "var2 = '[DS, ML, Python]'\n",
    "type(var2)"
   ]
  },
  {
   "cell_type": "code",
   "execution_count": 8,
   "id": "81f03ffc-2cf9-41e1-ab82-34fa2ec46dce",
   "metadata": {},
   "outputs": [
    {
     "data": {
      "text/plain": [
       "list"
      ]
     },
     "execution_count": 8,
     "metadata": {},
     "output_type": "execute_result"
    }
   ],
   "source": [
    "var3 = ['DS','ML','Python']\n",
    "type(var3)"
   ]
  },
  {
   "cell_type": "code",
   "execution_count": 9,
   "id": "2f6390e2-5b54-47be-9a1e-4cff317204f6",
   "metadata": {},
   "outputs": [
    {
     "data": {
      "text/plain": [
       "int"
      ]
     },
     "execution_count": 9,
     "metadata": {},
     "output_type": "execute_result"
    }
   ],
   "source": [
    "var4 = 1\n",
    "type(var4)"
   ]
  },
  {
   "cell_type": "markdown",
   "id": "d4e500cc-7638-41bf-b5e3-92aecbe17432",
   "metadata": {},
   "source": [
    "### Q3. Explain the use of the following operators using an example\n"
   ]
  },
  {
   "cell_type": "code",
   "execution_count": 12,
   "id": "c91a0677-4b8c-4fcb-969c-6e1ca805e697",
   "metadata": {},
   "outputs": [
    {
     "data": {
      "text/plain": [
       "1.25"
      ]
     },
     "execution_count": 12,
     "metadata": {},
     "output_type": "execute_result"
    }
   ],
   "source": [
    "#(i). \"/\" - Float division\n",
    "\n",
    "a1 = 5\n",
    "\n",
    "b1= 4\n",
    "\n",
    "a1/b1"
   ]
  },
  {
   "cell_type": "code",
   "execution_count": 14,
   "id": "516426e3-1716-44a4-a406-d02282eaf70f",
   "metadata": {},
   "outputs": [
    {
     "data": {
      "text/plain": [
       "1"
      ]
     },
     "execution_count": 14,
     "metadata": {},
     "output_type": "execute_result"
    }
   ],
   "source": [
    "#(ii). \"%\" - Modulus operator\n",
    "a2 = 5\n",
    "\n",
    "b2= 4\n",
    "\n",
    "a2%b2"
   ]
  },
  {
   "cell_type": "code",
   "execution_count": 15,
   "id": "619945aa-1f17-4421-b009-34fba32ba188",
   "metadata": {},
   "outputs": [
    {
     "data": {
      "text/plain": [
       "1"
      ]
     },
     "execution_count": 15,
     "metadata": {},
     "output_type": "execute_result"
    }
   ],
   "source": [
    "#(iii) \"//\" - Integer division\n",
    "\n",
    "a3 = 5\n",
    "\n",
    "b3= 4\n",
    "\n",
    "a3//b3"
   ]
  },
  {
   "cell_type": "code",
   "execution_count": 16,
   "id": "c009fab6-e770-4b49-8f56-49a18da20801",
   "metadata": {},
   "outputs": [
    {
     "data": {
      "text/plain": [
       "4"
      ]
     },
     "execution_count": 16,
     "metadata": {},
     "output_type": "execute_result"
    }
   ],
   "source": [
    "#(iv) \"**\" - Power Operatior\n",
    "\n",
    "k = 2\n",
    "\n",
    "k**2"
   ]
  },
  {
   "cell_type": "markdown",
   "id": "3a2c255b-4a15-479a-8489-0afb84bba559",
   "metadata": {},
   "source": [
    "### Q4. Create a list of length 10 of your choice containg multiple types of data. Using for loop print elecments and its data type"
   ]
  },
  {
   "cell_type": "code",
   "execution_count": 29,
   "id": "b5783ebf-dd89-40ca-8dc1-aab1afe0fa0f",
   "metadata": {},
   "outputs": [
    {
     "name": "stdout",
     "output_type": "stream",
     "text": [
      "element in  the list : 1   <class 'int'>\n",
      "element in  the list : 2   <class 'int'>\n",
      "element in  the list : 3   <class 'int'>\n",
      "element in  the list : Krisanu   <class 'str'>\n",
      "element in  the list : 45.38   <class 'float'>\n",
      "element in  the list : (6, 7, 8)   <class 'tuple'>\n",
      "element in  the list : True   <class 'bool'>\n",
      "element in  the list : (5+4j)   <class 'complex'>\n",
      "element in  the list : [9, 0, 6]   <class 'list'>\n",
      "element in  the list : {'k': 1, 'b': 3}   <class 'dict'>\n"
     ]
    }
   ],
   "source": [
    "a = [1,2,3,'Krisanu',45.38,(6,7,8), True, 5+4j,[9,0,6],{'k' : 1, 'b':3} ]\n",
    "\n",
    "for i in a :\n",
    "    print(\"element in  the list :\", i,\" \", type(i))\n"
   ]
  },
  {
   "cell_type": "markdown",
   "id": "d74c892e-3b80-40a0-accd-a872732276ea",
   "metadata": {},
   "source": [
    "### Q5. Using a while loop, verify if the number A is purely divisible by number B and if so then how many times it can be divisible"
   ]
  },
  {
   "cell_type": "code",
   "execution_count": 31,
   "id": "78669fd0-bfd5-4aa4-b6af-8afed1fb743b",
   "metadata": {},
   "outputs": [
    {
     "name": "stdout",
     "output_type": "stream",
     "text": [
      "1 is not divisible by 5\n",
      "2 is not divisible by 5\n",
      "3 is not divisible by 5\n",
      "4 is not divisible by 5\n",
      "5 is divisible by 5\n",
      "6 is not divisible by 5\n",
      "7 is not divisible by 5\n",
      "8 is not divisible by 5\n",
      "9 is not divisible by 5\n",
      "10 is divisible by 5\n",
      "11 is not divisible by 5\n",
      "12 is not divisible by 5\n",
      "13 is not divisible by 5\n",
      "14 is not divisible by 5\n",
      "15 is divisible by 5\n",
      "16 is not divisible by 5\n",
      "17 is not divisible by 5\n",
      "18 is not divisible by 5\n",
      "19 is not divisible by 5\n",
      "20 is divisible by 5\n",
      "21 is not divisible by 5\n",
      "22 is not divisible by 5\n",
      "23 is not divisible by 5\n",
      "24 is not divisible by 5\n",
      "25 is divisible by 5\n",
      "26 is not divisible by 5\n",
      "27 is not divisible by 5\n",
      "28 is not divisible by 5\n",
      "29 is not divisible by 5\n",
      "30 is divisible by 5\n",
      "31 is not divisible by 5\n",
      "32 is not divisible by 5\n",
      "33 is not divisible by 5\n",
      "34 is not divisible by 5\n",
      "35 is divisible by 5\n",
      "36 is not divisible by 5\n",
      "37 is not divisible by 5\n",
      "38 is not divisible by 5\n",
      "39 is not divisible by 5\n",
      "40 is divisible by 5\n",
      "41 is not divisible by 5\n",
      "42 is not divisible by 5\n",
      "43 is not divisible by 5\n",
      "44 is not divisible by 5\n",
      "45 is divisible by 5\n",
      "46 is not divisible by 5\n",
      "47 is not divisible by 5\n",
      "48 is not divisible by 5\n",
      "49 is not divisible by 5\n",
      "50 is divisible by 5\n",
      "Number of times number in range from 1 to 50  is divisible by 5 is  10\n"
     ]
    }
   ],
   "source": [
    "n = 1\n",
    "m = 50\n",
    "\n",
    "count = 0\n",
    "\n",
    "div = 5\n",
    "\n",
    "while (n<=m):\n",
    "    if n%div == 0:\n",
    "        print(n , 'is divisible by 5')\n",
    "        count+=1\n",
    "    else:\n",
    "        print(n, 'is not divisible by 5')\n",
    "    n+=1\n",
    "\n",
    "print(\"Number of times number in range from 1 to 50  is divisible by 5 is \", count)\n",
    "    \n",
    "        "
   ]
  },
  {
   "cell_type": "markdown",
   "id": "6f5a7f76-de59-466d-9b9b-7af9616ebb0d",
   "metadata": {},
   "source": [
    "### Q6. Create a list containing 25 int type data. Using for loop and if - else condition print if the element is divisible by 3 or not"
   ]
  },
  {
   "cell_type": "code",
   "execution_count": 41,
   "id": "edf25bec-292b-4c23-ba4a-a6130aa74b8b",
   "metadata": {},
   "outputs": [
    {
     "name": "stdout",
     "output_type": "stream",
     "text": [
      "0 is divisible by 3\n",
      "1 is not divisible by 3\n",
      "2 is not divisible by 3\n",
      "3 is divisible by 3\n",
      "4 is not divisible by 3\n",
      "5 is not divisible by 3\n",
      "6 is divisible by 3\n",
      "7 is not divisible by 3\n",
      "8 is not divisible by 3\n",
      "9 is divisible by 3\n",
      "10 is not divisible by 3\n",
      "11 is not divisible by 3\n",
      "12 is divisible by 3\n",
      "13 is not divisible by 3\n",
      "14 is not divisible by 3\n",
      "15 is divisible by 3\n",
      "16 is not divisible by 3\n",
      "17 is not divisible by 3\n",
      "18 is divisible by 3\n",
      "19 is not divisible by 3\n",
      "20 is not divisible by 3\n",
      "21 is divisible by 3\n",
      "22 is not divisible by 3\n",
      "23 is not divisible by 3\n",
      "24 is divisible by 3\n",
      "list of elements in range between 0 to 25 is divisible by 3:  [0, 3, 6, 9, 12, 15, 18, 21, 24]\n"
     ]
    }
   ],
   "source": [
    "list1 = list(range(0, 25))\n",
    "list2=[]\n",
    "for i in list1:\n",
    "    if i % 3 ==0:\n",
    "        print(i,'is divisible by 3')\n",
    "        list2.append(i)\n",
    "    else:\n",
    "        print(i ,'is not divisible by 3')\n",
    "\n",
    "print('list of elements in range between 0 to 25 is divisible by 3: ', list2)"
   ]
  },
  {
   "cell_type": "markdown",
   "id": "ae9e3393-f686-4037-8d24-afdd46c65a29",
   "metadata": {},
   "source": [
    "### Q7. What do you understand about mutable and immutable data types ? Give examples for both showing this property"
   ]
  },
  {
   "cell_type": "markdown",
   "id": "2b3b0c82-0f57-492a-ab1e-c20e5b47e9d7",
   "metadata": {},
   "source": [
    "Mutable data types : Mutable is when something is changeable or has the ability to change. In Python, 'mutable' is the ability of objects to change their values. These are often the objects that store a collection of data.\n",
    "Mutable data types are list, dictionaries and sets are mutable\n"
   ]
  },
  {
   "cell_type": "code",
   "execution_count": 42,
   "id": "44dc6500-dd38-4a5f-851f-51820d2a7c86",
   "metadata": {},
   "outputs": [
    {
     "data": {
      "text/plain": [
       "[3, 4, 'sen']"
      ]
     },
     "execution_count": 42,
     "metadata": {},
     "output_type": "execute_result"
    }
   ],
   "source": [
    "#mutable data types\n",
    "\n",
    "list3 = [3,4,'Krisan']\n",
    "\n",
    "list3[2] = 'sen'\n",
    "\n",
    "list3"
   ]
  },
  {
   "cell_type": "code",
   "execution_count": 50,
   "id": "1c8defe6-1a83-4d5f-96f9-e268d0d3a15f",
   "metadata": {},
   "outputs": [
    {
     "data": {
      "text/plain": [
       "{'k': 5, 'r': 2}"
      ]
     },
     "execution_count": 50,
     "metadata": {},
     "output_type": "execute_result"
    }
   ],
   "source": [
    "dict1 = {'k':1, 'r' : 2}\n",
    "dict1['k'] = 5\n",
    "dict1"
   ]
  },
  {
   "cell_type": "code",
   "execution_count": 53,
   "id": "b4e8d6ac-6860-46dc-bb16-dfc787865ade",
   "metadata": {},
   "outputs": [
    {
     "data": {
      "text/plain": [
       "{'Anupam', 'Bishal', 'Krisanu', 'Tridip'}"
      ]
     },
     "execution_count": 53,
     "metadata": {},
     "output_type": "execute_result"
    }
   ],
   "source": [
    "set1 = {'Krisanu','Anupam', 'Tridip'}\n",
    "set1.add('Bishal')\n",
    "set1"
   ]
  },
  {
   "cell_type": "markdown",
   "id": "1ac1bdd7-e072-48a5-9be6-2ac7d6688364",
   "metadata": {},
   "source": [
    "Immutable data types: Immutable is the when no change is possible over time. In Python, if the value of an object cannot be changed over time, then it is known as immutable. Once created, the value of these objects is permanent. Immutable data types are string, tuple."
   ]
  },
  {
   "cell_type": "code",
   "execution_count": 45,
   "id": "faaec796-76b0-4f43-b145-fbe7549525b4",
   "metadata": {},
   "outputs": [
    {
     "ename": "TypeError",
     "evalue": "'str' object does not support item assignment",
     "output_type": "error",
     "traceback": [
      "\u001b[0;31m---------------------------------------------------------------------------\u001b[0m",
      "\u001b[0;31mTypeError\u001b[0m                                 Traceback (most recent call last)",
      "Cell \u001b[0;32mIn[45], line 3\u001b[0m\n\u001b[1;32m      1\u001b[0m \u001b[38;5;66;03m#Immutable data types\u001b[39;00m\n\u001b[1;32m      2\u001b[0m a \u001b[38;5;241m=\u001b[39m \u001b[38;5;124m'\u001b[39m\u001b[38;5;124mKrisanu\u001b[39m\u001b[38;5;124m'\u001b[39m\n\u001b[0;32m----> 3\u001b[0m \u001b[43ma\u001b[49m\u001b[43m[\u001b[49m\u001b[38;5;241;43m0\u001b[39;49m\u001b[43m]\u001b[49m \u001b[38;5;241m=\u001b[39m \u001b[38;5;124m'\u001b[39m\u001b[38;5;124mT\u001b[39m\u001b[38;5;124m'\u001b[39m\n\u001b[1;32m      4\u001b[0m a\n",
      "\u001b[0;31mTypeError\u001b[0m: 'str' object does not support item assignment"
     ]
    }
   ],
   "source": [
    "#Immutable data types\n",
    "a = 'Krisanu'\n",
    "a[0] = 'T'\n",
    "a"
   ]
  },
  {
   "cell_type": "code",
   "execution_count": 48,
   "id": "16f5f17b-ad05-4e58-982f-e8d81eefb943",
   "metadata": {},
   "outputs": [
    {
     "ename": "TypeError",
     "evalue": "'tuple' object does not support item assignment",
     "output_type": "error",
     "traceback": [
      "\u001b[0;31m---------------------------------------------------------------------------\u001b[0m",
      "\u001b[0;31mTypeError\u001b[0m                                 Traceback (most recent call last)",
      "Cell \u001b[0;32mIn[48], line 2\u001b[0m\n\u001b[1;32m      1\u001b[0m c \u001b[38;5;241m=\u001b[39m (\u001b[38;5;241m1\u001b[39m,\u001b[38;5;241m2\u001b[39m,\u001b[38;5;241m3\u001b[39m)\n\u001b[0;32m----> 2\u001b[0m \u001b[43mc\u001b[49m\u001b[43m[\u001b[49m\u001b[38;5;241;43m0\u001b[39;49m\u001b[43m]\u001b[49m \u001b[38;5;241m=\u001b[39m \u001b[38;5;241m6\u001b[39m\n\u001b[1;32m      3\u001b[0m c\n",
      "\u001b[0;31mTypeError\u001b[0m: 'tuple' object does not support item assignment"
     ]
    }
   ],
   "source": [
    "c = (1,2,3)\n",
    "c[0] = 6\n",
    "c"
   ]
  },
  {
   "cell_type": "code",
   "execution_count": null,
   "id": "1876e5ab-8451-4bf9-b76c-b8595ab22117",
   "metadata": {},
   "outputs": [],
   "source": []
  }
 ],
 "metadata": {
  "kernelspec": {
   "display_name": "Python 3 (ipykernel)",
   "language": "python",
   "name": "python3"
  },
  "language_info": {
   "codemirror_mode": {
    "name": "ipython",
    "version": 3
   },
   "file_extension": ".py",
   "mimetype": "text/x-python",
   "name": "python",
   "nbconvert_exporter": "python",
   "pygments_lexer": "ipython3",
   "version": "3.10.8"
  }
 },
 "nbformat": 4,
 "nbformat_minor": 5
}
