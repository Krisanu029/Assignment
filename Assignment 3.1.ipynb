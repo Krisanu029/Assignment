{
 "cells": [
  {
   "cell_type": "markdown",
   "id": "bdbd392c",
   "metadata": {},
   "source": [
    "#### Q1. which keyword is used to create a function? create a function to return a list of odd numbers in the range of 1 to 25"
   ]
  },
  {
   "cell_type": "markdown",
   "id": "740d3ff2",
   "metadata": {},
   "source": [
    "\"def\" keyword is used to create a function"
   ]
  },
  {
   "cell_type": "code",
   "execution_count": 6,
   "id": "2174e011",
   "metadata": {},
   "outputs": [],
   "source": [
    "def odd_num(n):\n",
    "    l1 =[]\n",
    "    for i in range(1,n):\n",
    "        if i%2 != 0:\n",
    "            l1.append(i)\n",
    "    return l1"
   ]
  },
  {
   "cell_type": "code",
   "execution_count": 9,
   "id": "3e771725",
   "metadata": {},
   "outputs": [
    {
     "data": {
      "text/plain": [
       "[1, 3, 5, 7, 9, 11, 13, 15, 17, 19, 21, 23]"
      ]
     },
     "execution_count": 9,
     "metadata": {},
     "output_type": "execute_result"
    }
   ],
   "source": [
    "odd_num(25)"
   ]
  },
  {
   "cell_type": "markdown",
   "id": "1a566a76",
   "metadata": {},
   "source": [
    "#### Q2. Why * args and ** kwargs is used in some functions? create a function each for * args and ** kwargs to demonstrate their use"
   ]
  },
  {
   "cell_type": "markdown",
   "id": "b91848b4",
   "metadata": {},
   "source": [
    "We can use * args and ** Kwargs as arguments of a function when when we are unsure about the number of arguments to pass in the functions.\n",
    "\n",
    "    1.* args allow a function to take any number of positional arguments. the parameters passed to the addition function are stored in a tuple\n",
    "    2. ** Kwargs stands for keyword arguments. The only difference from * args that it uses keywards and returns in the form of a dictonary.\n",
    "    "
   ]
  },
  {
   "cell_type": "code",
   "execution_count": 16,
   "id": "d742404d",
   "metadata": {},
   "outputs": [],
   "source": [
    "#function for *args\n",
    "\n",
    "def addtion(*args):\n",
    "    sum = 0\n",
    "    for n in args:\n",
    "        sum = sum + n\n",
    "    return sum"
   ]
  },
  {
   "cell_type": "code",
   "execution_count": 17,
   "id": "b7972602",
   "metadata": {},
   "outputs": [
    {
     "data": {
      "text/plain": [
       "36"
      ]
     },
     "execution_count": 17,
     "metadata": {},
     "output_type": "execute_result"
    }
   ],
   "source": [
    "addtion(1,2,3,4,5,6,7,8)"
   ]
  },
  {
   "cell_type": "code",
   "execution_count": 24,
   "id": "e5f7c93f",
   "metadata": {},
   "outputs": [],
   "source": [
    "#function for **kwargs\n",
    "\n",
    "def myFun(**kwargs):\n",
    "    for key, value in kwargs.items():\n",
    "       print(\"%s == %s\" % (key, value))"
   ]
  },
  {
   "cell_type": "code",
   "execution_count": 26,
   "id": "b142f21a",
   "metadata": {},
   "outputs": [
    {
     "name": "stdout",
     "output_type": "stream",
     "text": [
      "first == Geeks\n",
      "mid == for\n",
      "last == Geeks\n"
     ]
    }
   ],
   "source": [
    "myFun(first='Geeks', mid='for', last='Geeks')"
   ]
  },
  {
   "cell_type": "markdown",
   "id": "6668bccd",
   "metadata": {},
   "source": [
    "#### Q3. What is an iterator in python? Name the method used to initialise the iterator object and the method used for iteration. Use these mehtods to print the first elements of the given list [2,4,6,8,10.12,14,16,18,20]"
   ]
  },
  {
   "cell_type": "markdown",
   "id": "58b49ccb",
   "metadata": {},
   "source": [
    "In python, an iterator is an object that allows you to iterate over the collections of data, such as lists, tuples , dictionaries and sets.\n",
    "\n",
    "iter() method is used to initialize the iterator object so that the instance of this object can be used for iterating.\n",
    "\n",
    "next() method is used for iteration"
   ]
  },
  {
   "cell_type": "code",
   "execution_count": 33,
   "id": "b7786678",
   "metadata": {},
   "outputs": [],
   "source": [
    "l = [2,4,6,8,10,12,14,16,18,20]\n",
    "a = iter(l)"
   ]
  },
  {
   "cell_type": "code",
   "execution_count": 34,
   "id": "a224790e",
   "metadata": {},
   "outputs": [
    {
     "data": {
      "text/plain": [
       "2"
      ]
     },
     "execution_count": 34,
     "metadata": {},
     "output_type": "execute_result"
    }
   ],
   "source": [
    "next(a)#1st element after 1st iteration\n",
    "    "
   ]
  },
  {
   "cell_type": "code",
   "execution_count": 35,
   "id": "4e295e8f",
   "metadata": {},
   "outputs": [
    {
     "data": {
      "text/plain": [
       "4"
      ]
     },
     "execution_count": 35,
     "metadata": {},
     "output_type": "execute_result"
    }
   ],
   "source": [
    "next(a)#2nd element after 1st iteration"
   ]
  },
  {
   "cell_type": "code",
   "execution_count": 36,
   "id": "e28ec6bc",
   "metadata": {},
   "outputs": [
    {
     "data": {
      "text/plain": [
       "6"
      ]
     },
     "execution_count": 36,
     "metadata": {},
     "output_type": "execute_result"
    }
   ],
   "source": [
    "next(a)#3rd element after 1st iteration"
   ]
  },
  {
   "cell_type": "code",
   "execution_count": 37,
   "id": "07d90e0a",
   "metadata": {},
   "outputs": [
    {
     "data": {
      "text/plain": [
       "8"
      ]
     },
     "execution_count": 37,
     "metadata": {},
     "output_type": "execute_result"
    }
   ],
   "source": [
    "next(a)#4th element after 1st iteration"
   ]
  },
  {
   "cell_type": "code",
   "execution_count": 38,
   "id": "13432998",
   "metadata": {},
   "outputs": [
    {
     "data": {
      "text/plain": [
       "10"
      ]
     },
     "execution_count": 38,
     "metadata": {},
     "output_type": "execute_result"
    }
   ],
   "source": [
    "next(a)#5th element after 1st iteration"
   ]
  },
  {
   "cell_type": "markdown",
   "id": "828ac94b",
   "metadata": {},
   "source": [
    "#### Q4. What is a generator in python? why yield keyword is used? Give an example of a generator function"
   ]
  },
  {
   "cell_type": "markdown",
   "id": "8d679694",
   "metadata": {},
   "source": [
    "In Python, a generator is a function that returns an iterator that produces a sequence of values when iterated over. Generators are useful when we want to produce a large sequence of values, but we don't want to store all of them in memory at once.\n",
    "\n",
    "Yield keyword used in pyton to control the flow of a generator function.\n"
   ]
  },
  {
   "cell_type": "code",
   "execution_count": 39,
   "id": "d1cade01",
   "metadata": {},
   "outputs": [],
   "source": [
    "# Example of a gegerator function\n",
    "\n",
    "def test_fib(n):\n",
    "    a, b = 0,1\n",
    "    for i in range(n):\n",
    "        yield a\n",
    "        a,b = b, a+b"
   ]
  },
  {
   "cell_type": "code",
   "execution_count": 40,
   "id": "4c0be2cc",
   "metadata": {},
   "outputs": [
    {
     "data": {
      "text/plain": [
       "<generator object test_fib at 0x000001ED56077040>"
      ]
     },
     "execution_count": 40,
     "metadata": {},
     "output_type": "execute_result"
    }
   ],
   "source": [
    "test_fib(10)"
   ]
  },
  {
   "cell_type": "code",
   "execution_count": 41,
   "id": "83846673",
   "metadata": {},
   "outputs": [
    {
     "name": "stdout",
     "output_type": "stream",
     "text": [
      "0\n",
      "1\n",
      "1\n",
      "2\n",
      "3\n",
      "5\n",
      "8\n",
      "13\n",
      "21\n",
      "34\n"
     ]
    }
   ],
   "source": [
    "for i in test_fib(10):\n",
    "    print(i)"
   ]
  },
  {
   "cell_type": "markdown",
   "id": "28be8440",
   "metadata": {},
   "source": [
    "#### Q5. Create a generator function for prime m=numbers less than 1000. Use the next( method to print the first 20 prime number"
   ]
  },
  {
   "cell_type": "code",
   "execution_count": 53,
   "id": "d4c34c85",
   "metadata": {},
   "outputs": [],
   "source": [
    "def genprimes(limit):  \n",
    "                    \n",
    "    D = {}          \n",
    "    q = 2\n",
    "\n",
    "    while q <= limit:\n",
    "        if q not in D:\n",
    "            yield q\n",
    "            D[q * q] = [q]\n",
    "        else:\n",
    "            for p in D[q]:\n",
    "                D.setdefault(p + q, []).append(p)\n",
    "            del D[q]\n",
    "        q += 1"
   ]
  },
  {
   "cell_type": "code",
   "execution_count": 55,
   "id": "d1d86f5e",
   "metadata": {},
   "outputs": [
    {
     "name": "stdout",
     "output_type": "stream",
     "text": [
      "[2, 3, 5, 7, 11, 13, 17, 19, 23, 29, 31, 37, 41, 43, 47, 53, 59, 61, 67, 71, 73, 79, 83, 89, 97, 101, 103, 107, 109, 113, 127, 131, 137, 139, 149, 151, 157, 163, 167, 173, 179, 181, 191, 193, 197, 199, 211, 223, 227, 229, 233, 239, 241, 251, 257, 263, 269, 271, 277, 281, 283, 293, 307, 311, 313, 317, 331, 337, 347, 349, 353, 359, 367, 373, 379, 383, 389, 397, 401, 409, 419, 421, 431, 433, 439, 443, 449, 457, 461, 463, 467, 479, 487, 491, 499, 503, 509, 521, 523, 541, 547, 557, 563, 569, 571, 577, 587, 593, 599, 601, 607, 613, 617, 619, 631, 641, 643, 647, 653, 659, 661, 673, 677, 683, 691, 701, 709, 719, 727, 733, 739, 743, 751, 757, 761, 769, 773, 787, 797, 809, 811, 821, 823, 827, 829, 839, 853, 857, 859, 863, 877, 881, 883, 887, 907, 911, 919, 929, 937, 941, 947, 953, 967, 971, 977, 983, 991, 997]\n"
     ]
    }
   ],
   "source": [
    "p = genprimes(1000)\n",
    "prms = [i for i in p]\n",
    "\n",
    "print(prms)"
   ]
  },
  {
   "cell_type": "code",
   "execution_count": 67,
   "id": "66770517",
   "metadata": {},
   "outputs": [
    {
     "data": {
      "text/plain": [
       "[2, 3, 5, 7, 11, 13, 17, 19]"
      ]
     },
     "execution_count": 67,
     "metadata": {},
     "output_type": "execute_result"
    }
   ],
   "source": [
    "p1 = genprimes(20)\n",
    "\n",
    "[i for i in p1]\n",
    "  \n",
    "    "
   ]
  },
  {
   "cell_type": "markdown",
   "id": "55f11ea1",
   "metadata": {},
   "source": [
    "#### Q6. Write a python program to print the first 10 fibonacci umbers using a while loop"
   ]
  },
  {
   "cell_type": "code",
   "execution_count": 69,
   "id": "1e925ecb",
   "metadata": {},
   "outputs": [],
   "source": [
    "def test_fib():\n",
    "    a,b = 0,1\n",
    "    while True:\n",
    "        yield a\n",
    "        a,b = b, a+b"
   ]
  },
  {
   "cell_type": "code",
   "execution_count": 71,
   "id": "5fd81982",
   "metadata": {},
   "outputs": [],
   "source": [
    "fib = test_fib()"
   ]
  },
  {
   "cell_type": "code",
   "execution_count": 72,
   "id": "d755c78e",
   "metadata": {},
   "outputs": [
    {
     "name": "stdout",
     "output_type": "stream",
     "text": [
      "0\n",
      "1\n",
      "1\n",
      "2\n",
      "3\n",
      "5\n",
      "8\n",
      "13\n",
      "21\n",
      "34\n"
     ]
    }
   ],
   "source": [
    "for i in range(10):\n",
    "    print(next(fib))"
   ]
  },
  {
   "cell_type": "markdown",
   "id": "d100c12e",
   "metadata": {},
   "source": [
    "#### Q6. Write a list comprehesion to iterate through the given string: \"pwskills\""
   ]
  },
  {
   "cell_type": "code",
   "execution_count": 73,
   "id": "757445ca",
   "metadata": {},
   "outputs": [
    {
     "data": {
      "text/plain": [
       "['p', 'w', 's', 'k', 'i', 'l', 'l', 's']"
      ]
     },
     "execution_count": 73,
     "metadata": {},
     "output_type": "execute_result"
    }
   ],
   "source": [
    "a ='pwskills'\n",
    "[i for i in a]"
   ]
  },
  {
   "cell_type": "markdown",
   "id": "fc51ae2d",
   "metadata": {},
   "source": [
    "#### Q8. Write a python program to check whether a given number is palindrome or not using a while loop "
   ]
  },
  {
   "cell_type": "code",
   "execution_count": 74,
   "id": "5a629d7e",
   "metadata": {},
   "outputs": [
    {
     "name": "stdout",
     "output_type": "stream",
     "text": [
      "Enter a number:121\n",
      "The number is palindrome!\n"
     ]
    }
   ],
   "source": [
    "num=int(input(\"Enter a number:\"))\n",
    "temp=num\n",
    "rev=0\n",
    "while(num>0):\n",
    "    dig=num%10\n",
    "    rev=rev*10+dig\n",
    "    num=num//10\n",
    "if(temp==rev):\n",
    "    print(\"The number is palindrome!\")\n",
    "else:\n",
    "    print(\"Not a palindrome!\")"
   ]
  },
  {
   "cell_type": "markdown",
   "id": "718d994c",
   "metadata": {},
   "source": [
    "#### Q9. Write a code to print odd number from 1 to 100 using list comprehesion"
   ]
  },
  {
   "cell_type": "code",
   "execution_count": 75,
   "id": "84e88aac",
   "metadata": {},
   "outputs": [
    {
     "data": {
      "text/plain": [
       "[1,\n",
       " 3,\n",
       " 5,\n",
       " 7,\n",
       " 9,\n",
       " 11,\n",
       " 13,\n",
       " 15,\n",
       " 17,\n",
       " 19,\n",
       " 21,\n",
       " 23,\n",
       " 25,\n",
       " 27,\n",
       " 29,\n",
       " 31,\n",
       " 33,\n",
       " 35,\n",
       " 37,\n",
       " 39,\n",
       " 41,\n",
       " 43,\n",
       " 45,\n",
       " 47,\n",
       " 49,\n",
       " 51,\n",
       " 53,\n",
       " 55,\n",
       " 57,\n",
       " 59,\n",
       " 61,\n",
       " 63,\n",
       " 65,\n",
       " 67,\n",
       " 69,\n",
       " 71,\n",
       " 73,\n",
       " 75,\n",
       " 77,\n",
       " 79,\n",
       " 81,\n",
       " 83,\n",
       " 85,\n",
       " 87,\n",
       " 89,\n",
       " 91,\n",
       " 93,\n",
       " 95,\n",
       " 97,\n",
       " 99]"
      ]
     },
     "execution_count": 75,
     "metadata": {},
     "output_type": "execute_result"
    }
   ],
   "source": [
    "[i for i in range(100) if i%2 != 0]"
   ]
  },
  {
   "cell_type": "code",
   "execution_count": null,
   "id": "3d78444a",
   "metadata": {},
   "outputs": [],
   "source": []
  }
 ],
 "metadata": {
  "kernelspec": {
   "display_name": "Python 3 (ipykernel)",
   "language": "python",
   "name": "python3"
  },
  "language_info": {
   "codemirror_mode": {
    "name": "ipython",
    "version": 3
   },
   "file_extension": ".py",
   "mimetype": "text/x-python",
   "name": "python",
   "nbconvert_exporter": "python",
   "pygments_lexer": "ipython3",
   "version": "3.9.13"
  }
 },
 "nbformat": 4,
 "nbformat_minor": 5
}
