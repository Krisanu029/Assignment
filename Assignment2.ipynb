{
 "cells": [
  {
   "cell_type": "markdown",
   "id": "6bce0ce8",
   "metadata": {},
   "source": [
    "##### Q1. How do you comment code in python? what are different types of comments?"
   ]
  },
  {
   "cell_type": "markdown",
   "id": "def5b32d",
   "metadata": {},
   "source": [
    "Comments in Python are identified with a hash symbol, #, and extend to the end of the line. Hash characters in a string are not considered comments, however. There are three ways to write a comment - as a separate line, beside the corresponding statement of code, or as a multi-line comment block.\n",
    "\n",
    "There are multiple uses of writing comments in Python. Some significant uses include:\n",
    "\n",
    "    1.Increasing readability\n",
    "    2.Explaining the code to others\n",
    "    3.Understanding the code easily after a long-term\n",
    "    4.Including resources\n",
    "    5.Re-using the existing code\n",
    "\n",
    "There are three types of comments: single-line, multi-line, and docstring comments. The syntax of comments varies depending on the type.\n",
    "\n",
    "i)Single- Line Comments:- Single-line comments begin with the “#” character. Anything that is written in a single line after ‘#’ is considered as a comment. The syntax for writing single-line comments is: # comments here.\n",
    "\n",
    "ii)Multi-Line Comments:- Python does not support multi-line comments. However, there are multiple ways to overcome this issue. None of these ways are technically multi-line comments, but you can use them as one. The first way is by using # at the beginning of each line of the comment.The next way is by using string literals but not assigning them to any variables. If you do not assign a string literal to a variable, the Python interpreter ignores it. Use this to your advantage to write multi-line comments. You can either use a single (‘’) quotation or double (“”) quotation.\n",
    "\n",
    "iii) Python Docstrings:- Python provides an in-built feature called docstrings for commenting on modules, methods, functions, objects, and classes. They are written in the first line after defining a module, function, method, etc., using three quotation marks (‘’ or “”). If you do not use it in the first line, the interpreter will not take it as a docstring. You can also access docstrings using the __doc__ attribute."
   ]
  },
  {
   "cell_type": "markdown",
   "id": "e3b1ca20",
   "metadata": {},
   "source": [
    "#### Q2. What are variables in python? How do you declare and assign values to variables?"
   ]
  },
  {
   "cell_type": "markdown",
   "id": "bc205553",
   "metadata": {},
   "source": [
    "A Python variable is a symbolic name that is a reference or pointer to an object. Once an object is assigned to a variable, you can refer to the object by that name. But the data itself is still contained within the object.\n",
    "\n"
   ]
  },
  {
   "cell_type": "code",
   "execution_count": 1,
   "id": "cfbfd8f4",
   "metadata": {},
   "outputs": [
    {
     "data": {
      "text/plain": [
       "10"
      ]
     },
     "execution_count": 1,
     "metadata": {},
     "output_type": "execute_result"
    }
   ],
   "source": [
    "#declaring and assign the values to variable\n",
    "a= 10 # a is variable and we have assigned 10 in the a variable\n",
    "a"
   ]
  },
  {
   "cell_type": "markdown",
   "id": "56f8d402",
   "metadata": {},
   "source": [
    "#### Q3. How do you convert one data type to another data type in python?"
   ]
  },
  {
   "cell_type": "markdown",
   "id": "310d81de",
   "metadata": {},
   "source": [
    "To convert between types, you simply use the type name as a function.There are several built-in functions to perform conversion from one data type to another. These functions return a new object representing the converted value."
   ]
  },
  {
   "cell_type": "code",
   "execution_count": 3,
   "id": "f17a506a",
   "metadata": {},
   "outputs": [
    {
     "name": "stdout",
     "output_type": "stream",
     "text": [
      "100 <class 'str'>\n"
     ]
    }
   ],
   "source": [
    "#example of type conversion\n",
    "\n",
    "a =100\n",
    "b = str(a) # here converting integer to string\n",
    "\n",
    "print(b, type(b))\n",
    "    "
   ]
  },
  {
   "cell_type": "markdown",
   "id": "ce5ab339",
   "metadata": {},
   "source": [
    "#### Q4. How do you write and execute a python script from command line"
   ]
  },
  {
   "cell_type": "markdown",
   "id": "9fe70072",
   "metadata": {},
   "source": [
    "    1) first you need to install python in the local machine\n",
    "    2) then open the command prompt and type python --version in the command prompt.\n",
    "    3) if you get the rsult like \"python not found\". then you need to python location and python script location in the Advance environment setting in your local machine.\n",
    "    4) after the create one python code in notepad and saved as .py extension.\n",
    "    6) Again reopen the command prompt and check if the python is available in the local envirom=nemt.\n",
    "    7) the first change the directory where you saved the python script and enther python space script name."
   ]
  },
  {
   "cell_type": "markdown",
   "id": "0d9f8a8c",
   "metadata": {},
   "source": [
    "#### Q5.  Given a list my_list = [1,2,3,4,5] write the code to slice the list nad obtain the sub-list [2,3]"
   ]
  },
  {
   "cell_type": "code",
   "execution_count": 4,
   "id": "b616c69f",
   "metadata": {},
   "outputs": [
    {
     "data": {
      "text/plain": [
       "[2, 3]"
      ]
     },
     "execution_count": 4,
     "metadata": {},
     "output_type": "execute_result"
    }
   ],
   "source": [
    "my_list = [1,2,3,4,5]\n",
    "my_list[1:3]"
   ]
  },
  {
   "cell_type": "markdown",
   "id": "96f553b3",
   "metadata": {},
   "source": [
    "#### Q6. What is a complex number in mathmatics and how is it represented in python"
   ]
  },
  {
   "cell_type": "markdown",
   "id": "64c38a2d",
   "metadata": {},
   "source": [
    "Complex number is basically the comnbination of a real number and an imaginary number. the complex number is in the form of a+ib\n"
   ]
  },
  {
   "cell_type": "code",
   "execution_count": 5,
   "id": "f04dfd40",
   "metadata": {},
   "outputs": [
    {
     "name": "stdout",
     "output_type": "stream",
     "text": [
      "real part in complex number:  3.0\n",
      "imaginary part in complex number:  2.0\n",
      "conjugate of the complex number:  (3-2j)\n"
     ]
    }
   ],
   "source": [
    "#defining the complex nunber in python\n",
    "a = 3+2j\n",
    "print('real part in complex number: ', a.real)\n",
    "print('imaginary part in complex number: ', a.imag)\n",
    "print('conjugate of the complex number: ', a.conjugate())"
   ]
  },
  {
   "cell_type": "markdown",
   "id": "004c6cf4",
   "metadata": {},
   "source": [
    "#### Q7. what is the correct way to declare a variable named age and assign the value 25 to it?"
   ]
  },
  {
   "cell_type": "code",
   "execution_count": 6,
   "id": "c34d4caa",
   "metadata": {},
   "outputs": [
    {
     "data": {
      "text/plain": [
       "25"
      ]
     },
     "execution_count": 6,
     "metadata": {},
     "output_type": "execute_result"
    }
   ],
   "source": [
    "#declaring the variable age\n",
    "age = 25\n",
    "age"
   ]
  },
  {
   "cell_type": "markdown",
   "id": "8865d0e6",
   "metadata": {},
   "source": [
    "#### Q8. Delcare a variable named price and assign the value 9.99 to it. what dta type does this wariable belong to?"
   ]
  },
  {
   "cell_type": "code",
   "execution_count": 7,
   "id": "37d210c1",
   "metadata": {},
   "outputs": [
    {
     "data": {
      "text/plain": [
       "float"
      ]
     },
     "execution_count": 7,
     "metadata": {},
     "output_type": "execute_result"
    }
   ],
   "source": [
    "price = 9.99\n",
    "type(price)"
   ]
  },
  {
   "cell_type": "markdown",
   "id": "ce95946e",
   "metadata": {},
   "source": [
    "#### Q9.Create a variable named name and assign your full name to it as a string. How would you print the value of this variable?"
   ]
  },
  {
   "cell_type": "code",
   "execution_count": 9,
   "id": "d6521845",
   "metadata": {},
   "outputs": [
    {
     "name": "stdout",
     "output_type": "stream",
     "text": [
      "Krisanu sen <class 'str'>\n"
     ]
    }
   ],
   "source": [
    "name ='Krisanu sen'\n",
    "print(name, type(name))"
   ]
  },
  {
   "cell_type": "markdown",
   "id": "e9c1bf44",
   "metadata": {},
   "source": [
    "#### Q10.Given the string \"Hello, World!\", extract the substring\"world\""
   ]
  },
  {
   "cell_type": "code",
   "execution_count": 13,
   "id": "ef7e8759",
   "metadata": {},
   "outputs": [
    {
     "data": {
      "text/plain": [
       "'World'"
      ]
     },
     "execution_count": 13,
     "metadata": {},
     "output_type": "execute_result"
    }
   ],
   "source": [
    "a = \"Hello, World!\"\n",
    "a[7:12]"
   ]
  },
  {
   "cell_type": "markdown",
   "id": "b8c686ae",
   "metadata": {},
   "source": [
    "#### Q11. Create a variable named \"is_student\" and assign it a boolean value indicationg you are currently student or not"
   ]
  },
  {
   "cell_type": "code",
   "execution_count": 40,
   "id": "d50b1474",
   "metadata": {},
   "outputs": [
    {
     "name": "stdout",
     "output_type": "stream",
     "text": [
      "you are not currently student\n"
     ]
    }
   ],
   "source": [
    "is_student = False\n",
    "if is_student == True:\n",
    "    print('You are currently student')\n",
    "else:\n",
    "    print('you are not currently student')"
   ]
  },
  {
   "cell_type": "code",
   "execution_count": null,
   "id": "19991e76",
   "metadata": {},
   "outputs": [],
   "source": []
  }
 ],
 "metadata": {
  "kernelspec": {
   "display_name": "Python 3 (ipykernel)",
   "language": "python",
   "name": "python3"
  },
  "language_info": {
   "codemirror_mode": {
    "name": "ipython",
    "version": 3
   },
   "file_extension": ".py",
   "mimetype": "text/x-python",
   "name": "python",
   "nbconvert_exporter": "python",
   "pygments_lexer": "ipython3",
   "version": "3.9.13"
  }
 },
 "nbformat": 4,
 "nbformat_minor": 5
}
